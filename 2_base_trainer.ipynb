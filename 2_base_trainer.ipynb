{
 "cells": [
  {
   "cell_type": "code",
   "execution_count": null,
   "id": "3b2d0625",
   "metadata": {},
   "outputs": [
    {
     "name": "stdout",
     "output_type": "stream",
     "text": [
      "Import loaded\n"
     ]
    }
   ],
   "source": [
    "#Imports\n",
    "import json\n",
    "import joblib\n",
    "import warnings\n",
    "import numpy as np\n",
    "import pandas as pd\n",
    "import seaborn as sns\n",
    "from pathlib import Path\n",
    "import matplotlib.pyplot as plt\n",
    "from sklearn.linear_model import LinearRegression, Ridge,  LogisticRegression\n",
    "from sklearn.metrics import (\n",
    "                            mean_absolute_error, mean_squared_error, r2_score,\n",
    "                            accuracy_score, precision_score, recall_score, f1_score, confusion_matrix\n",
    "                            )\n",
    "from sklearn.tree import DecisionTreeClassifier\n",
    "\n",
    "warnings.filterwarnings('ignore')\n",
    "print(\"Import loaded\")"
   ]
  },
  {
   "cell_type": "markdown",
   "id": "aa9ad9ce",
   "metadata": {},
   "source": [
    "#### 01) Load Prerocessed Arrays"
   ]
  },
  {
   "cell_type": "code",
   "execution_count": 32,
   "id": "b94d1d3a",
   "metadata": {},
   "outputs": [],
   "source": [
    "ARTIFACTS_DIR = Path(\"artifacts\")\n",
    "FIGURES_DIR = Path(\"artifacts/figures\")\n",
    "\n",
    "RANDOM_STATE = 42\n",
    "np.random.seed(RANDOM_STATE)"
   ]
  },
  {
   "cell_type": "markdown",
   "id": "441ca2ef",
   "metadata": {},
   "source": [
    "#### 02) Load Preprocessed Arrays"
   ]
  },
  {
   "cell_type": "code",
   "execution_count": 33,
   "id": "96f2b212",
   "metadata": {},
   "outputs": [
    {
     "name": "stdout",
     "output_type": "stream",
     "text": [
      "Regression arrays loaded :\n",
      "    X_train : (36735, 39), X_test : (9177, 39)\n",
      "    y_train : (36735,), X_test : (9177,)\n",
      "\n",
      "Classification arrays loaded :\n",
      "    X_train : (36735, 39), X_test : (9177, 39)\n",
      "    y_train : (36735,), X_test : (9177,)\n"
     ]
    }
   ],
   "source": [
    "X_train_reg = np.load(ARTIFACTS_DIR / 'X_train_reg.npz')['data']\n",
    "X_test_reg = np.load(ARTIFACTS_DIR / 'X_test_reg.npz')['data']\n",
    "y_train_reg = np.load(ARTIFACTS_DIR / 'y_train_reg.npz')['data']\n",
    "y_test_reg = np.load(ARTIFACTS_DIR / 'y_test_reg.npz')['data']\n",
    "\n",
    "X_train_cls = np.load(ARTIFACTS_DIR / 'X_train_cls.npz')['data']\n",
    "X_test_cls = np.load(ARTIFACTS_DIR / 'X_test_cls.npz')['data']\n",
    "y_train_cls = np.load(ARTIFACTS_DIR / 'y_train_cls.npz')['data']\n",
    "y_test_cls = np.load(ARTIFACTS_DIR / 'y_test_cls.npz')['data']\n",
    "\n",
    "print(\"Regression arrays loaded :\")\n",
    "print(f\"    X_train : {X_train_reg.shape}, X_test : {X_test_reg.shape}\")\n",
    "print(f\"    y_train : {y_train_reg.shape}, X_test : {y_test_reg.shape}\")\n",
    "\n",
    "print(\"\\nClassification arrays loaded :\")\n",
    "print(f\"    X_train : {X_train_cls.shape}, X_test : {X_test_cls.shape}\")\n",
    "print(f\"    y_train : {y_train_cls.shape}, X_test : {y_test_cls.shape}\")\n",
    "\n"
   ]
  },
  {
   "cell_type": "markdown",
   "id": "f8a8bcdd",
   "metadata": {},
   "source": [
    "#### 03) Regression Baseline"
   ]
  },
  {
   "cell_type": "code",
   "execution_count": 34,
   "id": "91499a72",
   "metadata": {},
   "outputs": [
    {
     "name": "stdout",
     "output_type": "stream",
     "text": [
      "\n",
      " Training LR model ...\n",
      " Test MAE : $36.28 | Test RMSE : $ 36.28 | Test R2 : $0.49\n",
      "\n",
      " Training Ridge_alpha1 model ...\n",
      " Test MAE : $36.28 | Test RMSE : $ 36.28 | Test R2 : $0.49\n",
      "\n",
      " Training Ridge_alpha10 model ...\n",
      " Test MAE : $36.28 | Test RMSE : $ 36.28 | Test R2 : $0.49\n",
      "\n",
      " Training Ridge_alpha100 model ...\n",
      " Test MAE : $36.35 | Test RMSE : $ 36.35 | Test R2 : $0.49\n",
      "\n",
      " Regression Baseline Results :\n",
      "         Model  Train MAE  Train RMSE  Train R2  Test MAE  Test RMSE  Test R2\n",
      "            LR  35.890291    0.496197  0.496197 36.277615  36.277615 0.491279\n",
      "  Ridge_alpha1  35.890417    0.496197  0.496197 36.278062  36.278062 0.491270\n",
      " Ridge_alpha10  35.891928    0.496187  0.496187 36.282839  36.282839 0.491184\n",
      "Ridge_alpha100  35.930345    0.495557  0.495557 36.347332  36.347332 0.490045\n"
     ]
    }
   ],
   "source": [
    "reg_models = {\n",
    "                'LR' : LinearRegression(),\n",
    "                'Ridge_alpha1' : Ridge(alpha=1, random_state=RANDOM_STATE),\n",
    "                'Ridge_alpha10' : Ridge(alpha=10, random_state=RANDOM_STATE),\n",
    "                'Ridge_alpha100' : Ridge(alpha=100, random_state=RANDOM_STATE)\n",
    "                }\n",
    "\n",
    "reg_results = []\n",
    "\n",
    "for name, model in reg_models.items():\n",
    "    print(f\"\\n Training {name} model ...\")\n",
    "    model.fit(X_train_reg,  y_train_reg)\n",
    "\n",
    "    # Predict\n",
    "    y_pred_train = model.predict(X_train_reg)\n",
    "    y_pred_test = model.predict(X_test_reg)\n",
    "\n",
    "    train_mae = mean_absolute_error(y_train_reg, y_pred_train)\n",
    "    test_mae = mean_absolute_error(y_test_reg, y_pred_test)\n",
    "\n",
    "    train_rmae = np.sqrt(mean_absolute_error(y_train_reg, y_pred_train))\n",
    "    test_rmae = np.sqrt(mean_absolute_error(y_test_reg, y_pred_test))\n",
    "\n",
    "    train_r2 = r2_score(y_train_reg, y_pred_train)\n",
    "    test_r2 = r2_score(y_test_reg, y_pred_test)\n",
    "\n",
    "    reg_results.append({\n",
    "                        'Model' : name,\n",
    "                        'Train MAE' : train_mae,\n",
    "                        'Train RMSE' : train_r2,\n",
    "                        'Train R2' : train_r2,\n",
    "                        'Test MAE' : test_mae,\n",
    "                        'Test RMSE' : test_mae,\n",
    "                        'Test R2' : test_r2\n",
    "                    })\n",
    "    print(f\" Test MAE : ${test_mae:.2f} | Test RMSE : $ {test_mae:.2f} | Test R2 : ${test_r2:.2f}\")\n",
    "\n",
    "# Creating Results DataFrame\n",
    "df_reg_results = pd.DataFrame(reg_results)\n",
    "print(\"\\n Regression Baseline Results :\")\n",
    "print(df_reg_results.to_string(index=False))\n",
    "\n",
    "# Save Results\n",
    "metrics_reg = df_reg_results.to_dict(orient='records')\n",
    "with open(ARTIFACTS_DIR / 'metrics_baseline_regression.json', 'w') as f:\n",
    "    json.dump(metrics_reg, f, indent=2)\n"
   ]
  },
  {
   "cell_type": "markdown",
   "id": "c26f585e",
   "metadata": {},
   "source": [
    "#### 04) Classification Baseline"
   ]
  },
  {
   "cell_type": "code",
   "execution_count": 37,
   "id": "d2edf575",
   "metadata": {},
   "outputs": [
    {
     "name": "stdout",
     "output_type": "stream",
     "text": [
      "\n",
      " Training LogR model ...\n",
      " Test Accuracy : 0.66 | Test Precision : 0.65 | Test Recall : 0.66 | Test F1 Score : 0.65\n",
      "\n",
      " Training DT model ...\n",
      " Test Accuracy : 0.67 | Test Precision : 0.67 | Test Recall : 0.67 | Test F1 Score : 0.67\n",
      "\n",
      " Classification Baseline Results :\n",
      "Model  Train Accuracy  Train Precision  Train Recall  Train F1 Score  Test Accuracy  Test Precision  Test Recall  Test F1 Score\n",
      " LogR        0.666122         0.651191      0.666122        0.651986       0.664705        0.649868     0.664705       0.650992\n",
      "   DT        0.680931         0.674141      0.680931        0.674923       0.672769        0.666896     0.672769       0.667813\n"
     ]
    }
   ],
   "source": [
    "cls_models = {\n",
    "            'LogR' : LogisticRegression(\n",
    "                                        multi_class='multinomial',\n",
    "                                        max_iter = 200,\n",
    "                                        random_state=RANDOM_STATE\n",
    "                                        ),\n",
    "            'DT' : DecisionTreeClassifier(\n",
    "                                        max_depth=6,\n",
    "                                        random_state=RANDOM_STATE\n",
    "                                        )\n",
    "            }\n",
    "\n",
    "cls_results = []\n",
    "\n",
    "\n",
    "for name, model in cls_models.items():\n",
    "    print(f\"\\n Training {name} model ...\")\n",
    "    model.fit(X_train_cls, y_train_cls)\n",
    "\n",
    "    # Predict\n",
    "    y_pred_train = model.predict(X_train_cls)\n",
    "    y_pred_test = model.predict(X_test_cls)\n",
    "\n",
    "    train_acc = accuracy_score(y_train_cls, y_pred_train)\n",
    "    test_acc = accuracy_score(y_test_cls, y_pred_test)\n",
    "\n",
    "    train_precision = precision_score(y_train_cls, y_pred_train, average='weighted')\n",
    "    test_precision = precision_score(y_test_cls, y_pred_test, average='weighted')\n",
    "\n",
    "    train_recall =recall_score(y_train_cls, y_pred_train, average='weighted')\n",
    "    test_recall = recall_score(y_test_cls, y_pred_test, average='weighted')\n",
    "\n",
    "    train_f1 = f1_score(y_train_cls, y_pred_train, average='weighted')\n",
    "    test_f1 = f1_score(y_test_cls, y_pred_test, average='weighted')\n",
    "\n",
    "\n",
    "    cls_results.append({\n",
    "                        'Model' : name,\n",
    "                        'Train Accuracy' : train_acc,\n",
    "                        'Train Precision' : train_precision,\n",
    "                        'Train Recall' : train_recall,\n",
    "                        'Train F1 Score' : train_f1,\n",
    "                        'Test Accuracy' : test_acc,\n",
    "                        'Test Precision' : test_precision,\n",
    "                        'Test Recall' : test_recall,\n",
    "                        'Test F1 Score' : test_f1,\n",
    "                    })\n",
    "    print(f\" Test Accuracy : {test_acc:.2f} | Test Precision : {test_precision:.2f} | Test Recall : {test_recall:.2f} | Test F1 Score : {test_f1:.2f}\")\n",
    "\n",
    "# Creating Results DataFrame\n",
    "df_cls_results = pd.DataFrame(cls_results)\n",
    "print(\"\\n Classification Baseline Results :\")\n",
    "print(df_cls_results.to_string(index=False))\n",
    "\n",
    "# Save Results\n",
    "metrics_cls = df_cls_results.to_dict(orient='records')\n",
    "with open(ARTIFACTS_DIR / 'metrics_baseline_classification.json', 'w') as f:\n",
    "    json.dump(metrics_cls, f, indent=2)"
   ]
  },
  {
   "cell_type": "code",
   "execution_count": 43,
   "id": "1c19d6c4",
   "metadata": {},
   "outputs": [
    {
     "data": {
      "image/png": "[encoded data removed]",
      "text/plain": [
       "<Figure size 1200x400 with 4 Axes>"
      ]
     },
     "metadata": {},
     "output_type": "display_data"
    }
   ],
   "source": [
    "CLASS_LABELS = ['Budget', 'Standard', 'Luxury']\n",
    "fig, axes = plt.subplots(1, 2, figsize=(12, 4))\n",
    "\n",
    "for idx, (name, model) in enumerate(cls_models.items()):\n",
    "    y_pred_test = model.predict(X_test_cls)\n",
    " \n",
    "    cm = confusion_matrix(y_test_cls, y_pred_test)\n",
    "\n",
    "    sns.heatmap(\n",
    "                cm, \n",
    "                annot=True, fmt='d', cmap='Blues',\n",
    "                xticklabels=CLASS_LABELS, ax=axes[idx]\n",
    "                )\n",
    "\n",
    "axes[idx].set_title(f\"CM - {name}\")\n",
    "axes[idx].set_ylabel(\"True\")\n",
    "axes[idx].set_xlabel(\"Predicted\")\n",
    "\n",
    "plt.tight_layout\n",
    "plt.savefig(\n",
    "            FIGURES_DIR / 'baseline_classification_cm.png',\n",
    "            dpi=150,bbox_inches='tight'\n",
    "            )"
   ]
  }
 ],
 "metadata": {
  "kernelspec": {
   "display_name": "base",
   "language": "python",
   "name": "python3"
  },
  "language_info": {
   "codemirror_mode": {
    "name": "ipython",
    "version": 3
   },
   "file_extension": ".py",
   "mimetype": "text/x-python",
   "name": "python",
   "nbconvert_exporter": "python",
   "pygments_lexer": "ipython3",
   "version": "3.13.5"
  }
 },
 "nbformat": 4,
 "nbformat_minor": 5
}

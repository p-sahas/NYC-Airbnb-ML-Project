{
 "cells": [
  {
   "cell_type": "code",
   "execution_count": 10,
   "id": "3b2d0625",
   "metadata": {},
   "outputs": [
    {
     "name": "stdout",
     "output_type": "stream",
     "text": [
      "Import loaded\n"
     ]
    }
   ],
   "source": [
    "#Imports\n",
    "import json\n",
    "import joblib\n",
    "import warnings\n",
    "import numpy as np\n",
    "import pandas as pd\n",
    "import seaborn as sns\n",
    "from pathlib import Path\n",
    "import matplotlib.pyplot as plt\n",
    "from sklearn.linear_model import LinearRegression, Ridge,  LogisticRegression\n",
    "from sklearn.metrics import (\n",
    "                            mean_absolute_error, mean_squared_error, r2_score,\n",
    "                            accuracy_score, precision_score, recall_score, f1_score, confusion_matrix\n",
    "                            )\n",
    "warnings.filterwarnings('ignore')\n",
    "\n",
    "RANDOM_STATE = 42\n",
    "np.random.seed(RANDOM_STATE)\n",
    "print(\"Import loaded\")"
   ]
  },
  {
   "cell_type": "markdown",
   "id": "aa9ad9ce",
   "metadata": {},
   "source": [
    "#### 01) Load Prerocessed Arrays"
   ]
  },
  {
   "cell_type": "code",
   "execution_count": 11,
   "id": "b94d1d3a",
   "metadata": {},
   "outputs": [],
   "source": [
    "ARTIFACTS_DIR = Path(\"artifacts\")\n",
    "FIGURES_DIR = Path(\"artifacts/figures\")\n",
    "\n",
    "RANDOM_STATE = 42\n",
    "np.random.seed(RANDOM_STATE)"
   ]
  },
  {
   "cell_type": "markdown",
   "id": "441ca2ef",
   "metadata": {},
   "source": [
    "#### 02) Load Preprocessed Arrays"
   ]
  },
  {
   "cell_type": "code",
   "execution_count": 12,
   "id": "96f2b212",
   "metadata": {},
   "outputs": [
    {
     "ename": "FileNotFoundError",
     "evalue": "[Errno 2] No such file or directory: 'artifacts\\\\X_train_reg.npz'",
     "output_type": "error",
     "traceback": [
      "\u001b[31m---------------------------------------------------------------------------\u001b[39m",
      "\u001b[31mFileNotFoundError\u001b[39m                         Traceback (most recent call last)",
      "\u001b[36mCell\u001b[39m\u001b[36m \u001b[39m\u001b[32mIn[12]\u001b[39m\u001b[32m, line 1\u001b[39m\n\u001b[32m----> \u001b[39m\u001b[32m1\u001b[39m X_train_reg = \u001b[43mnp\u001b[49m\u001b[43m.\u001b[49m\u001b[43mload\u001b[49m\u001b[43m(\u001b[49m\u001b[43mARTIFACTS_DIR\u001b[49m\u001b[43m \u001b[49m\u001b[43m/\u001b[49m\u001b[43m \u001b[49m\u001b[33;43m'\u001b[39;49m\u001b[33;43mX_train_reg.npz\u001b[39;49m\u001b[33;43m'\u001b[39;49m\u001b[43m)\u001b[49m[\u001b[33m'\u001b[39m\u001b[33mdata\u001b[39m\u001b[33m'\u001b[39m]\n\u001b[32m      2\u001b[39m X_test_reg = np.load(ARTIFACTS_DIR / \u001b[33m'\u001b[39m\u001b[33mX_test_reg.npz\u001b[39m\u001b[33m'\u001b[39m)[\u001b[33m'\u001b[39m\u001b[33mdata\u001b[39m\u001b[33m'\u001b[39m]\n\u001b[32m      3\u001b[39m y_train_reg = np.load(ARTIFACTS_DIR / \u001b[33m'\u001b[39m\u001b[33my_train_reg.npz\u001b[39m\u001b[33m'\u001b[39m)[\u001b[33m'\u001b[39m\u001b[33mdata\u001b[39m\u001b[33m'\u001b[39m]\n",
      "\u001b[36mFile \u001b[39m\u001b[32m~\\AppData\\Roaming\\Python\\Python313\\site-packages\\numpy\\lib\\_npyio_impl.py:451\u001b[39m, in \u001b[36mload\u001b[39m\u001b[34m(file, mmap_mode, allow_pickle, fix_imports, encoding, max_header_size)\u001b[39m\n\u001b[32m    449\u001b[39m     own_fid = \u001b[38;5;28;01mFalse\u001b[39;00m\n\u001b[32m    450\u001b[39m \u001b[38;5;28;01melse\u001b[39;00m:\n\u001b[32m--> \u001b[39m\u001b[32m451\u001b[39m     fid = stack.enter_context(\u001b[38;5;28;43mopen\u001b[39;49m\u001b[43m(\u001b[49m\u001b[43mos\u001b[49m\u001b[43m.\u001b[49m\u001b[43mfspath\u001b[49m\u001b[43m(\u001b[49m\u001b[43mfile\u001b[49m\u001b[43m)\u001b[49m\u001b[43m,\u001b[49m\u001b[43m \u001b[49m\u001b[33;43m\"\u001b[39;49m\u001b[33;43mrb\u001b[39;49m\u001b[33;43m\"\u001b[39;49m\u001b[43m)\u001b[49m)\n\u001b[32m    452\u001b[39m     own_fid = \u001b[38;5;28;01mTrue\u001b[39;00m\n\u001b[32m    454\u001b[39m \u001b[38;5;66;03m# Code to distinguish from NumPy binary files and pickles.\u001b[39;00m\n",
      "\u001b[31mFileNotFoundError\u001b[39m: [Errno 2] No such file or directory: 'artifacts\\\\X_train_reg.npz'"
     ]
    }
   ],
   "source": [
    "X_train_reg = np.load(ARTIFACTS_DIR / 'X_train_reg.npz')['data']\n",
    "X_test_reg = np.load(ARTIFACTS_DIR / 'X_test_reg.npz')['data']\n",
    "y_train_reg = np.load(ARTIFACTS_DIR / 'y_train_reg.npz')['data']\n",
    "y_test_reg = np.load(ARTIFACTS_DIR / 'y_test_reg.npz')['data']\n",
    "\n",
    "X_train_cls = np.load(ARTIFACTS_DIR / 'X_train_cls.npz')['data']\n",
    "X_test_cls = np.load(ARTIFACTS_DIR / 'X_test_cls.npz')['data']\n",
    "y_train_cls = np.load(ARTIFACTS_DIR / 'y_train_cls.npz')['data']\n",
    "y_test_cls = np.load(ARTIFACTS_DIR / 'y_test_cls.npz')['data']\n"
   ]
  }
 ],
 "metadata": {
  "kernelspec": {
   "display_name": "base",
   "language": "python",
   "name": "python3"
  },
  "language_info": {
   "codemirror_mode": {
    "name": "ipython",
    "version": 3
   },
   "file_extension": ".py",
   "mimetype": "text/x-python",
   "name": "python",
   "nbconvert_exporter": "python",
   "pygments_lexer": "ipython3",
   "version": "3.13.5"
  }
 },
 "nbformat": 4,
 "nbformat_minor": 5
}

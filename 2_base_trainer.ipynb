{
 "cells": [
  {
   "cell_type": "code",
   "execution_count": 3,
   "id": "3b2d0625",
   "metadata": {},
   "outputs": [
    {
     "name": "stdout",
     "output_type": "stream",
     "text": [
      "Import loaded\n"
     ]
    }
   ],
   "source": [
    "#Imports\n",
    "import json\n",
    "import joblib\n",
    "import warnings\n",
    "import numpy as np\n",
    "import pandas as pd\n",
    "import seaborn as sns\n",
    "from pathlib import Path\n",
    "import matplotlib.pyplot as plt\n",
    "from sklearn.linear_model import LinearRegression, Ridge,  LogisticRegression\n",
    "from sklearn.metrics import (\n",
    "                            mean_absolute_error, mean_squared_error, r2_score,\n",
    "                            accuracy_score, precision_score, recall_score, f1_score, confusion_matrix\n",
    "                            )\n",
    "warnings.filterwarnings('ignore')\n",
    "\n",
    "RANDOM_STATE = 42\n",
    "np.random.seed(RANDOM_STATE)\n",
    "print(\"Import loaded\")"
   ]
  },
  {
   "cell_type": "markdown",
   "id": "aa9ad9ce",
   "metadata": {},
   "source": [
    "#### 01) Load Prerocessed Arrays"
   ]
  },
  {
   "cell_type": "code",
   "execution_count": 4,
   "id": "b94d1d3a",
   "metadata": {},
   "outputs": [],
   "source": [
    "ARTIFACTS_DIR = Path(\"artifacts\")\n",
    "FIGURES_DIR = Path(\"artifacts/figures\")\n",
    "\n",
    "RANDOM_STATE = 42\n",
    "np.random.seed(RANDOM_STATE)"
   ]
  },
  {
   "cell_type": "markdown",
   "id": "441ca2ef",
   "metadata": {},
   "source": [
    "#### 02) Load Preprocessed Arrays"
   ]
  },
  {
   "cell_type": "code",
   "execution_count": 5,
   "id": "96f2b212",
   "metadata": {},
   "outputs": [
    {
     "name": "stdout",
     "output_type": "stream",
     "text": [
      "Regression arrays loaded :\n",
      "    X_train : (36735, 39), X_test : (9177, 39)\n",
      "    y_train : (36735,), X_test : (9177,)\n",
      "\n",
      "Classification arrays loaded :\n",
      "    X_train : (36735, 39), X_test : (9177, 39)\n",
      "    y_train : (36735,), X_test : (9177,)\n"
     ]
    }
   ],
   "source": [
    "X_train_reg = np.load(ARTIFACTS_DIR / 'X_train_reg.npz')['data']\n",
    "X_test_reg = np.load(ARTIFACTS_DIR / 'X_test_reg.npz')['data']\n",
    "y_train_reg = np.load(ARTIFACTS_DIR / 'y_train_reg.npz')['data']\n",
    "y_test_reg = np.load(ARTIFACTS_DIR / 'y_test_reg.npz')['data']\n",
    "\n",
    "X_train_cls = np.load(ARTIFACTS_DIR / 'X_train_cls.npz')['data']\n",
    "X_test_cls = np.load(ARTIFACTS_DIR / 'X_test_cls.npz')['data']\n",
    "y_train_cls = np.load(ARTIFACTS_DIR / 'y_train_cls.npz')['data']\n",
    "y_test_cls = np.load(ARTIFACTS_DIR / 'y_test_cls.npz')['data']\n",
    "\n",
    "print(\"Regression arrays loaded :\")\n",
    "print(f\"    X_train : {X_train_reg.shape}, X_test : {X_test_reg.shape}\")\n",
    "print(f\"    y_train : {y_train_reg.shape}, X_test : {y_test_reg.shape}\")\n",
    "\n",
    "print(\"\\nClassification arrays loaded :\")\n",
    "print(f\"    X_train : {X_train_cls.shape}, X_test : {X_test_cls.shape}\")\n",
    "print(f\"    y_train : {y_train_cls.shape}, X_test : {y_test_cls.shape}\")\n",
    "\n"
   ]
  },
  {
   "cell_type": "markdown",
   "id": "f8a8bcdd",
   "metadata": {},
   "source": [
    "#### 03) Regression Baseline"
   ]
  },
  {
   "cell_type": "code",
   "execution_count": 9,
   "id": "91499a72",
   "metadata": {},
   "outputs": [
    {
     "name": "stdout",
     "output_type": "stream",
     "text": [
      "\n",
      " Training LR model ...\n",
      " Test MAE : $36.28 | Test RMSE : $ 36.28 | Test R2 : $0.49\n",
      "\n",
      " Training Ridge_alpha1 model ...\n",
      " Test MAE : $36.28 | Test RMSE : $ 36.28 | Test R2 : $0.49\n",
      "\n",
      " Training Ridge_alpha10 model ...\n",
      " Test MAE : $36.28 | Test RMSE : $ 36.28 | Test R2 : $0.49\n",
      "\n",
      " Training Ridge_alpha100 model ...\n",
      " Test MAE : $36.35 | Test RMSE : $ 36.35 | Test R2 : $0.49\n",
      "\n",
      " Regression Baseline Results :\n",
      "         Model  Train MAE  Train RMSE  Train R2  Test MAE  Test RMSE\n",
      "            LR  35.890291    0.496197  0.491279 36.277615  36.277615\n",
      "  Ridge_alpha1  35.890417    0.496197  0.491270 36.278062  36.278062\n",
      " Ridge_alpha10  35.891928    0.496187  0.491184 36.282839  36.282839\n",
      "Ridge_alpha100  35.930345    0.495557  0.490045 36.347332  36.347332\n"
     ]
    }
   ],
   "source": [
    "reg_models = {\n",
    "                'LR' : LinearRegression(),\n",
    "                'Ridge_alpha1' : Ridge(alpha=1, random_state=RANDOM_STATE),\n",
    "                'Ridge_alpha10' : Ridge(alpha=10, random_state=RANDOM_STATE),\n",
    "                'Ridge_alpha100' : Ridge(alpha=100, random_state=RANDOM_STATE)\n",
    "                }\n",
    "\n",
    "reg_results = []\n",
    "\n",
    "for name, model in reg_models.items():\n",
    "    print(f\"\\n Training {name} model ...\")\n",
    "    model.fit(X_train_reg,  y_train_reg)\n",
    "\n",
    "    # Predict\n",
    "    y_pred_train = model.predict(X_train_reg)\n",
    "    y_pred_test = model.predict(X_test_reg)\n",
    "\n",
    "    train_mae = mean_absolute_error(y_train_reg, y_pred_train)\n",
    "    test_mae = mean_absolute_error(y_test_reg, y_pred_test)\n",
    "\n",
    "    train_rmae = np.sqrt(mean_absolute_error(y_train_reg, y_pred_train))\n",
    "    test_rmae = np.sqrt(mean_absolute_error(y_test_reg, y_pred_test))\n",
    "\n",
    "    train_r2 = r2_score(y_train_reg, y_pred_train)\n",
    "    test_r2 = r2_score(y_test_reg, y_pred_test)\n",
    "\n",
    "    reg_results.append({\n",
    "                        'Model' : name,\n",
    "                        'Train MAE' : train_mae,\n",
    "                        'Train RMSE' : train_r2,\n",
    "                        'Train R2' : train_r2,\n",
    "                        'Test MAE' : test_mae,\n",
    "                        'Test RMSE' : test_mae,\n",
    "                        'Train R2' : test_r2\n",
    "                    })\n",
    "    print(f\" Test MAE : ${test_mae:.2f} | Test RMSE : $ {test_mae:.2f} | Test R2 : ${test_r2:.2f}\")\n",
    "\n",
    "# Creating Results DataFrame\n",
    "df_reg_results = pd.DataFrame(reg_results)\n",
    "print(\"\\n Regression Baseline Results :\")\n",
    "print(df_reg_results.to_string(index=False))\n",
    "\n",
    "# Save Results\n",
    "metrics_reg = df_reg_results.to_dict(orient='records')\n",
    "with open(ARTIFACTS_DIR / 'meetrics_baselinr_regression.json', 'w') as f:\n",
    "    json.dump(metrics_reg, f, indent=2)\n"
   ]
  }
 ],
 "metadata": {
  "kernelspec": {
   "display_name": "base",
   "language": "python",
   "name": "python3"
  },
  "language_info": {
   "codemirror_mode": {
    "name": "ipython",
    "version": 3
   },
   "file_extension": ".py",
   "mimetype": "text/x-python",
   "name": "python",
   "nbconvert_exporter": "python",
   "pygments_lexer": "ipython3",
   "version": "3.13.5"
  }
 },
 "nbformat": 4,
 "nbformat_minor": 5
}

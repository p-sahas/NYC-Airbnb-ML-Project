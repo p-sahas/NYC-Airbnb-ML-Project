{
 "cells": [
  {
   "cell_type": "code",
   "execution_count": 13,
   "id": "3b2d0625",
   "metadata": {},
   "outputs": [
    {
     "name": "stdout",
     "output_type": "stream",
     "text": [
      "Import loaded\n"
     ]
    }
   ],
   "source": [
    "#Imports\n",
    "import json\n",
    "import joblib\n",
    "import warnings\n",
    "import numpy as np\n",
    "import pandas as pd\n",
    "import seaborn as sns\n",
    "from pathlib import Path\n",
    "import matplotlib.pyplot as plt\n",
    "from sklearn.linear_model import LinearRegression, Ridge,  LogisticRegression\n",
    "from sklearn.metrics import (\n",
    "                            mean_absolute_error, mean_squared_error, r2_score,\n",
    "                            accuracy_score, precision_score, recall_score, f1_score, confusion_matrix\n",
    "                            )\n",
    "warnings.filterwarnings('ignore')\n",
    "\n",
    "RANDOM_STATE = 42\n",
    "np.random.seed(RANDOM_STATE)\n",
    "print(\"Import loaded\")"
   ]
  },
  {
   "cell_type": "markdown",
   "id": "aa9ad9ce",
   "metadata": {},
   "source": [
    "#### 01) Load Prerocessed Arrays"
   ]
  },
  {
   "cell_type": "code",
   "execution_count": 14,
   "id": "b94d1d3a",
   "metadata": {},
   "outputs": [],
   "source": [
    "ARTIFACTS_DIR = Path(\"artifacts\")\n",
    "FIGURES_DIR = Path(\"artifacts/figures\")\n",
    "\n",
    "RANDOM_STATE = 42\n",
    "np.random.seed(RANDOM_STATE)"
   ]
  },
  {
   "cell_type": "markdown",
   "id": "441ca2ef",
   "metadata": {},
   "source": [
    "#### 02) Load Preprocessed Arrays"
   ]
  },
  {
   "cell_type": "code",
   "execution_count": 16,
   "id": "96f2b212",
   "metadata": {},
   "outputs": [
    {
     "name": "stdout",
     "output_type": "stream",
     "text": [
      "Regression arrays loaded :\n",
      "    X_train : (36735, 39), X_test : (9177, 39)\n",
      "    y_train : (36735,), X_test : (9177,)\n",
      "\n",
      "Classification arrays loaded :\n",
      "    X_train : (36735, 39), X_test : (9177, 39)\n",
      "    y_train : (36735,), X_test : (9177,)\n"
     ]
    }
   ],
   "source": [
    "X_train_reg = np.load(ARTIFACTS_DIR / 'X_train_reg.npz')['data']\n",
    "X_test_reg = np.load(ARTIFACTS_DIR / 'X_test_reg.npz')['data']\n",
    "y_train_reg = np.load(ARTIFACTS_DIR / 'y_train_reg.npz')['data']\n",
    "y_test_reg = np.load(ARTIFACTS_DIR / 'y_test_reg.npz')['data']\n",
    "\n",
    "X_train_cls = np.load(ARTIFACTS_DIR / 'X_train_cls.npz')['data']\n",
    "X_test_cls = np.load(ARTIFACTS_DIR / 'X_test_cls.npz')['data']\n",
    "y_train_cls = np.load(ARTIFACTS_DIR / 'y_train_cls.npz')['data']\n",
    "y_test_cls = np.load(ARTIFACTS_DIR / 'y_test_cls.npz')['data']\n",
    "\n",
    "print(\"Regression arrays loaded :\")\n",
    "print(f\"    X_train : {X_train_reg.shape}, X_test : {X_test_reg.shape}\")\n",
    "print(f\"    y_train : {y_train_reg.shape}, X_test : {y_test_reg.shape}\")\n",
    "\n",
    "print(\"\\nClassification arrays loaded :\")\n",
    "print(f\"    X_train : {X_train_cls.shape}, X_test : {X_test_cls.shape}\")\n",
    "print(f\"    y_train : {y_train_cls.shape}, X_test : {y_test_cls.shape}\")\n",
    "\n"
   ]
  },
  {
   "cell_type": "markdown",
   "id": "f8a8bcdd",
   "metadata": {},
   "source": [
    "#### 03) Regression Baseline"
   ]
  },
  {
   "cell_type": "code",
   "execution_count": null,
   "id": "91499a72",
   "metadata": {},
   "outputs": [],
   "source": [
    "27:00"
   ]
  }
 ],
 "metadata": {
  "kernelspec": {
   "display_name": "base",
   "language": "python",
   "name": "python3"
  },
  "language_info": {
   "codemirror_mode": {
    "name": "ipython",
    "version": 3
   },
   "file_extension": ".py",
   "mimetype": "text/x-python",
   "name": "python",
   "nbconvert_exporter": "python",
   "pygments_lexer": "ipython3",
   "version": "3.13.5"
  }
 },
 "nbformat": 4,
 "nbformat_minor": 5
}

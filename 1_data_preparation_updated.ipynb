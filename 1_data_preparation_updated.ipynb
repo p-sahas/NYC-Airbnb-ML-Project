{
  "cells": [
    {
      "cell_type": "markdown",
      "metadata": {},
      "source": [
        "# 0) Data Preparation — NYC Airbnb\n",
        "\n",
        "**Goal:** Proper ML preprocessing pipeline that prevents data leakage.\n",
        "\n",
        "**7-Step Pipeline:**\n",
        "1. Remove impossible values (price ≤ 0, basic validation)\n",
        "2. **Split train/test EARLY** ← Prevents leakage!\n",
        "3. Impute missing values (fit on TRAIN only)\n",
        "4. Handle outliers using IQR (calculate on TRAIN only)\n",
        "5. Feature binning (if useful)\n",
        "6. Scale numerical features (fit on TRAIN only)\n",
        "7. Encode categorical features (fit on TRAIN only)\n",
        "\n",
        "**Key Principle:** ALL statistics calculated on TRAIN only, then applied to TEST.\n",
        "\n",
        "**Outputs:**\n",
        "- Preprocessor: `artifacts/preprocessor.joblib`\n",
        "- Feature names: `artifacts/feature_names.json`\n",
        "- Price bins: `artifacts/price_bin_thresholds.json`\n",
        "- Arrays: `X_train/test_reg/cls.npz`, `y_train/test_reg/cls.npz`\n"
      ]
    },
    {
      "cell_type": "code",
      "execution_count": null,
      "metadata": {},
      "outputs": [
        {
          "name": "stdout",
          "output_type": "stream",
          "text": [
            "✅ Imports loaded\n"
          ]
        }
      ],
      "source": [
        "# Imports\n",
        "import json\n",
        "import joblib\n",
        "import warnings\n",
        "import numpy as np\n",
        "import pandas as pd\n",
        "import seaborn as sns\n",
        "from pathlib import Path\n",
        "import matplotlib.pyplot as plt\n",
        "from sklearn.model_selection import train_test_split\n",
        "from sklearn.preprocessing import StandardScaler, OneHotEncoder, OrdinalEncoder\n",
        "from sklearn.compose import ColumnTransformer\n",
        "from sklearn.pipeline import Pipeline\n",
        "warnings.filterwarnings('ignore')\n",
        "\n",
        "RANDOM_STATE = 42\n",
        "np.random.seed(RANDOM_STATE)\n",
        "\n",
        "print(\"Imports loaded\")\n"
      ]
    },
    {
      "cell_type": "markdown",
      "metadata": {},
      "source": [
        "## 1️) Configuration"
      ]
    },
    {
      "cell_type": "code",
      "execution_count": null,
      "metadata": {},
      "outputs": [
        {
          "name": "stdout",
          "output_type": "stream",
          "text": [
            "✅ Configuration loaded\n"
          ]
        }
      ],
      "source": [
        "# Paths\n",
        "RAW_DATA_PATH = \"data/raw/AB_NYC_2019.csv\"\n",
        "PROCESSED_DIR = Path(\"data/processed\")\n",
        "ARTIFACTS_DIR = Path(\"artifacts\")\n",
        "FIGURES_DIR = Path(\"artifacts/figures\")\n",
        "\n",
        "# Create directories\n",
        "for dir_path in [PROCESSED_DIR, ARTIFACTS_DIR, FIGURES_DIR]:\n",
        "    dir_path.mkdir(parents=True, exist_ok=True)\n",
        "    # Clear all files in directory\n",
        "    for file in dir_path.glob('*'):\n",
        "        if file.is_file():\n",
        "            file.unlink()\n",
        "\n",
        "# Constants\n",
        "NYC_LAT_MIN, NYC_LAT_MAX = 40.4, 41.0\n",
        "NYC_LON_MIN, NYC_LON_MAX = -74.3, -73.6\n",
        "IQR_MULTIPLIER = 1.5\n",
        "\n",
        "print(\" Configuration loaded\")\n"
      ]
    },
    {
      "cell_type": "markdown",
      "metadata": {},
      "source": [
        "## 2️) Helper Functions"
      ]
    },
    {
      "cell_type": "code",
      "execution_count": null,
      "metadata": {},
      "outputs": [
        {
          "name": "stdout",
          "output_type": "stream",
          "text": [
            "✅ Helper functions defined\n"
          ]
        }
      ],
      "source": [
        "def calculate_iqr_bounds(series, multiplier=1.5):\n",
        "    \"\"\"Calculate IQR-based outlier bounds\"\"\"\n",
        "    q1, q3 = series.quantile([0.25, 0.75])\n",
        "    iqr = q3 - q1\n",
        "    return q1 - multiplier * iqr, q3 + multiplier * iqr\n",
        "\n",
        "def remove_impossible_values(df):\n",
        "    \"\"\"Step 1: Remove only impossible/invalid values - NO STATISTICS!\"\"\"\n",
        "    df = df.copy()\n",
        "    initial = len(df)\n",
        "    \n",
        "    # Remove invalid prices\n",
        "    df = df[df['price'] > 0]\n",
        "    print(f\"  Removed {initial - len(df):,} rows with price ≤ 0\")\n",
        "    \n",
        "    # Geographic bounds\n",
        "    df = df[\n",
        "        (df['latitude'].between(NYC_LAT_MIN, NYC_LAT_MAX)) &\n",
        "        (df['longitude'].between(NYC_LON_MIN, NYC_LON_MAX))\n",
        "    ]\n",
        "    print(f\"  Remaining: {len(df):,} rows after geo filter\")\n",
        "    \n",
        "    # Parse dates\n",
        "    df['last_review'] = pd.to_datetime(df['last_review'], errors='coerce')\n",
        "    \n",
        "    # Drop ID columns (host_name and name already dropped at load)\n",
        "    df = df.drop(columns=['id', 'host_id'], errors='ignore')\n",
        "    \n",
        "    return df\n",
        "\n",
        "def build_preprocessor(nominal_cols, ordinal_cols, ordinal_categories, numeric_cols):\n",
        "    \"\"\"Build preprocessing pipeline - Steps 6 & 7\"\"\"\n",
        "    transformers = [\n",
        "        ('num', Pipeline([\n",
        "            ('scaler', StandardScaler())\n",
        "        ]), numeric_cols),\n",
        "        ('nom', Pipeline([\n",
        "            ('onehot', OneHotEncoder(handle_unknown='ignore', min_frequency=0.01, sparse_output=False))\n",
        "        ]), nominal_cols)\n",
        "    ]\n",
        "    \n",
        "    if ordinal_cols:\n",
        "        transformers.append(('ord', Pipeline([\n",
        "            ('ordinal', OrdinalEncoder(categories=ordinal_categories, handle_unknown='use_encoded_value', unknown_value=-1))\n",
        "        ]), ordinal_cols))\n",
        "    \n",
        "    return ColumnTransformer(transformers)\n",
        "\n",
        "def extract_feature_names(fitted_ct):\n",
        "    \"\"\"Extract feature names from fitted ColumnTransformer\"\"\"\n",
        "    names = []\n",
        "    for name, transformer, columns in fitted_ct.transformers_:\n",
        "        if name == 'num':\n",
        "            names.extend(columns)\n",
        "        elif name == 'nom':\n",
        "            names.extend(transformer.named_steps['onehot'].get_feature_names_out(columns))\n",
        "        elif name == 'ord':\n",
        "            names.extend(columns)\n",
        "    return names\n",
        "\n",
        "print(\" Helper functions defined\")\n"
      ]
    },
    {
      "cell_type": "markdown",
      "metadata": {},
      "source": [
        "## 3️) Load Raw Data"
      ]
    },
    {
      "cell_type": "code",
      "execution_count": null,
      "metadata": {},
      "outputs": [
        {
          "name": "stdout",
          "output_type": "stream",
          "text": [
            "✅ Loaded 48,895 rows, 16 columns\n",
            "✅ Dropped host_name and name columns\n",
            "\n",
            "Columns: ['id', 'host_id', 'neighbourhood_group', 'neighbourhood', 'latitude', 'longitude', 'room_type', 'price', 'minimum_nights', 'number_of_reviews', 'last_review', 'reviews_per_month', 'calculated_host_listings_count', 'availability_365']\n"
          ]
        },
        {
          "data": {
            "text/html": [
              "<div>\n",
              "<style scoped>\n",
              "    .dataframe tbody tr th:only-of-type {\n",
              "        vertical-align: middle;\n",
              "    }\n",
              "\n",
              "    .dataframe tbody tr th {\n",
              "        vertical-align: top;\n",
              "    }\n",
              "\n",
              "    .dataframe thead th {\n",
              "        text-align: right;\n",
              "    }\n",
              "</style>\n",
              "<table border=\"1\" class=\"dataframe\">\n",
              "  <thead>\n",
              "    <tr style=\"text-align: right;\">\n",
              "      <th></th>\n",
              "      <th>id</th>\n",
              "      <th>host_id</th>\n",
              "      <th>neighbourhood_group</th>\n",
              "      <th>neighbourhood</th>\n",
              "      <th>latitude</th>\n",
              "      <th>longitude</th>\n",
              "      <th>room_type</th>\n",
              "      <th>price</th>\n",
              "      <th>minimum_nights</th>\n",
              "      <th>number_of_reviews</th>\n",
              "      <th>last_review</th>\n",
              "      <th>reviews_per_month</th>\n",
              "      <th>calculated_host_listings_count</th>\n",
              "      <th>availability_365</th>\n",
              "    </tr>\n",
              "  </thead>\n",
              "  <tbody>\n",
              "    <tr>\n",
              "      <th>0</th>\n",
              "      <td>2539</td>\n",
              "      <td>2787</td>\n",
              "      <td>Brooklyn</td>\n",
              "      <td>Kensington</td>\n",
              "      <td>40.64749</td>\n",
              "      <td>-73.97237</td>\n",
              "      <td>Private room</td>\n",
              "      <td>149</td>\n",
              "      <td>1</td>\n",
              "      <td>9</td>\n",
              "      <td>2018-10-19</td>\n",
              "      <td>0.21</td>\n",
              "      <td>6</td>\n",
              "      <td>365</td>\n",
              "    </tr>\n",
              "    <tr>\n",
              "      <th>1</th>\n",
              "      <td>2595</td>\n",
              "      <td>2845</td>\n",
              "      <td>Manhattan</td>\n",
              "      <td>Midtown</td>\n",
              "      <td>40.75362</td>\n",
              "      <td>-73.98377</td>\n",
              "      <td>Entire home/apt</td>\n",
              "      <td>225</td>\n",
              "      <td>1</td>\n",
              "      <td>45</td>\n",
              "      <td>2019-05-21</td>\n",
              "      <td>0.38</td>\n",
              "      <td>2</td>\n",
              "      <td>355</td>\n",
              "    </tr>\n",
              "    <tr>\n",
              "      <th>2</th>\n",
              "      <td>3647</td>\n",
              "      <td>4632</td>\n",
              "      <td>Manhattan</td>\n",
              "      <td>Harlem</td>\n",
              "      <td>40.80902</td>\n",
              "      <td>-73.94190</td>\n",
              "      <td>Private room</td>\n",
              "      <td>150</td>\n",
              "      <td>3</td>\n",
              "      <td>0</td>\n",
              "      <td>NaN</td>\n",
              "      <td>NaN</td>\n",
              "      <td>1</td>\n",
              "      <td>365</td>\n",
              "    </tr>\n",
              "  </tbody>\n",
              "</table>\n",
              "</div>"
            ],
            "text/plain": [
              "     id  host_id neighbourhood_group neighbourhood  latitude  longitude  \\\n",
              "0  2539     2787            Brooklyn    Kensington  40.64749  -73.97237   \n",
              "1  2595     2845           Manhattan       Midtown  40.75362  -73.98377   \n",
              "2  3647     4632           Manhattan        Harlem  40.80902  -73.94190   \n",
              "\n",
              "         room_type  price  minimum_nights  number_of_reviews last_review  \\\n",
              "0     Private room    149               1                  9  2018-10-19   \n",
              "1  Entire home/apt    225               1                 45  2019-05-21   \n",
              "2     Private room    150               3                  0         NaN   \n",
              "\n",
              "   reviews_per_month  calculated_host_listings_count  availability_365  \n",
              "0               0.21                               6               365  \n",
              "1               0.38                               2               355  \n",
              "2                NaN                               1               365  "
            ]
          },
          "execution_count": 4,
          "metadata": {},
          "output_type": "execute_result"
        }
      ],
      "source": [
        "df_raw = pd.read_csv(RAW_DATA_PATH)\n",
        "print(f\" Loaded {len(df_raw):,} rows, {len(df_raw.columns)} columns\")\n",
        "\n",
        "# Drop unnecessary text columns immediately\n",
        "df_raw = df_raw.drop(columns=['host_name', 'name'], errors='ignore')\n",
        "print(f\" Dropped host_name and name columns\")\n",
        "\n",
        "print(f\"\\nColumns: {list(df_raw.columns)}\")\n",
        "df_raw.head(3)\n"
      ]
    },
    {
      "cell_type": "markdown",
      "metadata": {},
      "source": [
        "## 4️) Missing Value Analysis\n",
        "\n",
        "Comprehensive analysis before any processing.\n"
      ]
    },
    {
      "cell_type": "code",
      "execution_count": null,
      "metadata": {},
      "outputs": [
        {
          "name": "stdout",
          "output_type": "stream",
          "text": [
            "================================================================================\n",
            "MISSING VALUE ANALYSIS\n",
            "================================================================================\n",
            "           Column  Missing_Count  Missing_Pct\n",
            "      last_review          10052        20.56\n",
            "reviews_per_month          10052        20.56\n"
          ]
        },
        {
          "data": {
            "image/png": "[encoded data removed]",
            "text/plain": [
              "<Figure size 1600x500 with 2 Axes>"
            ]
          },
          "metadata": {},
          "output_type": "display_data"
        },
        {
          "name": "stdout",
          "output_type": "stream",
          "text": [
            "\n",
            "✅ Missing value analysis saved to artifacts\\figures\\missing_values_analysis.png\n",
            "\n",
            "📝 Strategy: Impute after split (Step 3) using TRAIN statistics only\n"
          ]
        }
      ],
      "source": [
        "# Missing value statistics\n",
        "missing = df_raw.isnull().sum()\n",
        "missing_pct = (missing / len(df_raw) * 100).round(2)\n",
        "missing_df = pd.DataFrame({\n",
        "    'Column': missing.index,\n",
        "    'Missing_Count': missing.values,\n",
        "    'Missing_Pct': missing_pct.values\n",
        "}).sort_values('Missing_Count', ascending=False)\n",
        "\n",
        "print(\"=\" * 80)\n",
        "print(\"MISSING VALUE ANALYSIS\")\n",
        "print(\"=\" * 80)\n",
        "print(missing_df[missing_df['Missing_Count'] > 0].to_string(index=False))\n",
        "\n",
        "# Visualization\n",
        "fig, (ax1, ax2) = plt.subplots(1, 2, figsize=(16, 5))\n",
        "\n",
        "# Heatmap\n",
        "sns.heatmap(df_raw.isnull(), cbar=False, yticklabels=False, cmap='viridis', ax=ax1)\n",
        "ax1.set_title('Missing Value Pattern (Yellow = Missing)', fontsize=14, fontweight='bold')\n",
        "\n",
        "# Bar chart\n",
        "missing_nonzero = missing_df[missing_df['Missing_Count'] > 0]\n",
        "if len(missing_nonzero) > 0:\n",
        "    ax2.barh(missing_nonzero['Column'], missing_nonzero['Missing_Pct'], color='coral', edgecolor='black')\n",
        "    ax2.set_xlabel('Missing %', fontsize=12)\n",
        "    ax2.set_title('Missing Value Percentage by Column', fontsize=14, fontweight='bold')\n",
        "    ax2.invert_yaxis()\n",
        "    for i, (col, pct) in enumerate(zip(missing_nonzero['Column'], missing_nonzero['Missing_Pct'])):\n",
        "        ax2.text(pct + 0.5, i, f'{pct:.1f}%', va='center', fontsize=10)\n",
        "else:\n",
        "    ax2.text(0.5, 0.5, 'No Missing Values', ha='center', va='center', fontsize=16, transform=ax2.transAxes)\n",
        "    ax2.axis('off')\n",
        "\n",
        "plt.tight_layout()\n",
        "plt.savefig(FIGURES_DIR / 'missing_values_analysis.png', dpi=150, bbox_inches='tight')\n",
        "plt.show()\n",
        "\n",
        "print(f\"\\n Missing value analysis saved to {FIGURES_DIR / 'missing_values_analysis.png'}\")\n",
        "print(f\"\\n Strategy: Impute after split (Step 3) using TRAIN statistics only\")\n"
      ]
    },
    {
      "cell_type": "markdown",
      "metadata": {},
      "source": [
        "##  STEP 1: Remove Impossible Values\n",
        "\n",
        "Only basic validation - NO STATISTICS calculated yet!\n"
      ]
    },
    {
      "cell_type": "code",
      "execution_count": null,
      "metadata": {},
      "outputs": [
        {
          "name": "stdout",
          "output_type": "stream",
          "text": [
            "  Removed 11 rows with price ≤ 0\n",
            "  Remaining: 48,884 rows after geo filter\n",
            "\n",
            "✅ Step 1 complete: 48,884 rows ready for split\n"
          ]
        }
      ],
      "source": [
        "df_minimal = remove_impossible_values(df_raw)\n",
        "print(f\"\\n Step 1 complete: {len(df_minimal):,} rows ready for split\")\n"
      ]
    },
    {
      "cell_type": "markdown",
      "metadata": {},
      "source": [
        "## 5️) Exploratory Data Analysis"
      ]
    },
    {
      "cell_type": "code",
      "execution_count": null,
      "metadata": {},
      "outputs": [
        {
          "name": "stdout",
          "output_type": "stream",
          "text": [
            "Data Summary:\n",
            "           latitude     longitude         price  minimum_nights  \\\n",
            "count  48884.000000  48884.000000  48884.000000    48884.000000   \n",
            "mean      40.728953    -73.952176    152.755053        7.029887   \n",
            "min       40.499790    -74.244420     10.000000        1.000000   \n",
            "25%       40.690100    -73.983080     69.000000        1.000000   \n",
            "50%       40.723080    -73.955685    106.000000        3.000000   \n",
            "75%       40.763120    -73.936290    175.000000        5.000000   \n",
            "max       40.913060    -73.712990  10000.000000     1250.000000   \n",
            "std        0.054532      0.046159    240.170260       20.512224   \n",
            "\n",
            "       number_of_reviews                    last_review  reviews_per_month  \\\n",
            "count       48884.000000                          38833       38833.000000   \n",
            "mean           23.271991  2018-10-04 01:15:09.896222208           1.373128   \n",
            "min             0.000000            2011-03-28 00:00:00           0.010000   \n",
            "25%             1.000000            2018-07-08 00:00:00           0.190000   \n",
            "50%             5.000000            2019-05-19 00:00:00           0.720000   \n",
            "75%            24.000000            2019-06-23 00:00:00           2.020000   \n",
            "max           629.000000            2019-07-08 00:00:00          58.500000   \n",
            "std            44.551331                            NaN           1.680391   \n",
            "\n",
            "       calculated_host_listings_count  availability_365  \n",
            "count                    48884.000000      48884.000000  \n",
            "mean                         7.144628        112.779498  \n",
            "min                          1.000000          0.000000  \n",
            "25%                          1.000000          0.000000  \n",
            "50%                          1.000000         45.000000  \n",
            "75%                          2.000000        227.000000  \n",
            "max                        327.000000        365.000000  \n",
            "std                         32.956185        131.627271  \n",
            "\n",
            "✅ EDA complete - Ready for STEP 2: Split\n"
          ]
        }
      ],
      "source": [
        "# Quick EDA on minimally cleaned data\n",
        "print(\"Data Summary:\")\n",
        "print(df_minimal.describe())\n",
        "print(f\"\\n EDA complete - Ready for STEP 2: Split\")\n"
      ]
    },
    {
      "cell_type": "code",
      "execution_count": null,
      "metadata": {},
      "outputs": [
        {
          "data": {
            "image/png": "[encoded data removed]",
            "text/plain": [
              "<Figure size 1200x800 with 2 Axes>"
            ]
          },
          "metadata": {},
          "output_type": "display_data"
        },
        {
          "name": "stdout",
          "output_type": "stream",
          "text": [
            "\n",
            "✅ Correlation analysis saved to artifacts\\figures\\correlation_matrix.png\n"
          ]
        }
      ],
      "source": [
        "# Plot correlation matrix\n",
        "plt.figure(figsize=(12, 8))\n",
        "numeric_cols = df_minimal.select_dtypes(include=['float64', 'int64']).columns\n",
        "correlation_matrix = df_minimal[numeric_cols].corr()\n",
        "\n",
        "# Create heatmap\n",
        "sns.heatmap(\n",
        "            correlation_matrix, \n",
        "            annot=True,\n",
        "            cmap='coolwarm',\n",
        "            center=0,\n",
        "            fmt='.2f',\n",
        "            square=True,\n",
        "            linewidths=0.5\n",
        "            )\n",
        "\n",
        "plt.title('Correlation Matrix of Numeric Features', fontsize=14, pad=20)\n",
        "plt.tight_layout()\n",
        "plt.savefig(FIGURES_DIR / 'correlation_matrix.png', dpi=150, bbox_inches='tight')\n",
        "plt.show()\n",
        "\n",
        "print(f\"\\n Correlation analysis saved to {FIGURES_DIR / 'correlation_matrix.png'}\")\n"
      ]
    },
    {
      "cell_type": "markdown",
      "metadata": {},
      "source": [
        "##  STEP 2: Split Train/Test (EARLY!)\n",
        "\n",
        "**CRITICAL:** Split BEFORE any statistical operations to prevent leakage!\n"
      ]
    },
    {
      "cell_type": "code",
      "execution_count": null,
      "metadata": {},
      "outputs": [
        {
          "name": "stdout",
          "output_type": "stream",
          "text": [
            "✅ Step 2 complete:\n",
            "   TRAIN: 39,107 samples\n",
            "   TEST:  9,777 samples\n",
            "\n",
            "⚠️ NO FITTING HAS OCCURRED YET - ALL STATISTICS WILL USE TRAIN ONLY\n"
          ]
        }
      ],
      "source": [
        "# Define feature columns\n",
        "NOMINAL_COLS = [\n",
        "                'neighbourhood_group', \n",
        "                'neighbourhood'\n",
        "                ]\n",
        "ORDINAL_COLS = ['room_type']\n",
        "ORDINAL_CATEGORIES = [['Shared room', 'Private room', 'Entire home/apt']]\n",
        "NUMERIC_COLS = ['latitude', 'longitude', 'minimum_nights', 'number_of_reviews', \n",
        "                'calculated_host_listings_count', 'availability_365']\n",
        "\n",
        "# Prepare X, y\n",
        "feature_cols = NOMINAL_COLS + ORDINAL_COLS + NUMERIC_COLS + ['last_review', 'reviews_per_month']\n",
        "X = df_minimal[feature_cols].copy()\n",
        "y_price = df_minimal['price'].copy()\n",
        "\n",
        "# SPLIT FIRST!\n",
        "X_train, X_test, y_train, y_test = train_test_split(\n",
        "                                                    X, \n",
        "                                                    y_price, \n",
        "                                                    test_size=0.2, \n",
        "                                                    random_state=RANDOM_STATE\n",
        "                                                    )\n",
        "\n",
        "print(f\" Step 2 complete:\")\n",
        "print(f\"   TRAIN: {len(X_train):,} samples\")\n",
        "print(f\"   TEST:  {len(X_test):,} samples\")\n",
        "print(f\"\\n NO FITTING HAS OCCURRED YET - ALL STATISTICS WILL USE TRAIN ONLY\")\n"
      ]
    },
    {
      "cell_type": "markdown",
      "metadata": {},
      "source": [
        "##  STEP 3: Impute Missing Values\n",
        "\n",
        "Fit imputers on TRAIN, apply to TEST.\n"
      ]
    },
    {
      "cell_type": "code",
      "execution_count": null,
      "metadata": {},
      "outputs": [
        {
          "name": "stdout",
          "output_type": "stream",
          "text": [
            "✅ Step 3 complete: Missing values imputed\n",
            "   TRAIN median used: 0.37\n"
          ]
        }
      ],
      "source": [
        "# Strategy: reviews_per_month based on number_of_reviews\n",
        "def impute_reviews_per_month(df):\n",
        "    df = df.copy()\n",
        "    df.loc[df['number_of_reviews'] == 0, 'reviews_per_month'] = 0.0\n",
        "    df['reviews_per_month'].fillna(df['reviews_per_month'].median(), inplace=True)\n",
        "    return df\n",
        "\n",
        "X_train = impute_reviews_per_month(X_train)\n",
        "# Use TRAIN median for TEST\n",
        "test_median = X_train['reviews_per_month'].median()\n",
        "X_test = X_test.copy()\n",
        "X_test.loc[X_test['number_of_reviews'] == 0, 'reviews_per_month'] = 0.0\n",
        "X_test['reviews_per_month'].fillna(test_median, inplace=True)\n",
        "\n",
        "print(f\" Step 3 complete: Missing values imputed\")\n",
        "print(f\"   TRAIN median used: {test_median:.2f}\")\n"
      ]
    },
    {
      "cell_type": "markdown",
      "metadata": {},
      "source": [
        "##  STEP 4: Handle Outliers (IQR - Price Only)\n",
        "\n",
        "Calculate IQR bounds on TRAIN, apply to both."
      ]
    },
    {
      "cell_type": "markdown",
      "metadata": {},
      "source": [
        "# ![IQR Outlier Detection](https://docs.oracle.com/en/cloud/saas/tax-reporting-cloud/ustrc/img/insights_iqr_example.jpg)"
      ]
    },
    {
      "cell_type": "code",
      "execution_count": null,
      "metadata": {},
      "outputs": [
        {
          "name": "stdout",
          "output_type": "stream",
          "text": [
            "IQR bounds (from TRAIN): $-90.00 to $334.00\n",
            "Outliers detected: TRAIN=2,372, TEST=600\n",
            "\n",
            "✅ Step 4 complete:\n",
            "   TRAIN: 36,735 samples\n",
            "   TEST:  9,177 samples\n"
          ]
        }
      ],
      "source": [
        "# Calculate IQR on TRAIN only\n",
        "price_lower, price_upper = calculate_iqr_bounds(y_train, IQR_MULTIPLIER)\n",
        "print(f\"IQR bounds (from TRAIN): ${price_lower:.2f} to ${price_upper:.2f}\")\n",
        "\n",
        "# Count outliers\n",
        "train_outliers = ((y_train < price_lower) | (y_train > price_upper)).sum()\n",
        "test_outliers = ((y_test < price_lower) | (y_test > price_upper)).sum()\n",
        "print(f\"Outliers detected: TRAIN={train_outliers:,}, TEST={test_outliers:,}\")\n",
        "\n",
        "# Remove outliers from TRAIN\n",
        "mask_train = (y_train >= price_lower) & (y_train <= price_upper)\n",
        "X_train = X_train[mask_train]\n",
        "y_train = y_train[mask_train]\n",
        "\n",
        "# Apply same bounds to TEST\n",
        "mask_test = (y_test >= price_lower) & (y_test <= price_upper)\n",
        "X_test = X_test[mask_test]\n",
        "y_test = y_test[mask_test]\n",
        "\n",
        "print(f\"\\n Step 4 complete:\")\n",
        "print(f\"   TRAIN: {len(X_train):,} samples\")\n",
        "print(f\"   TEST:  {len(X_test):,} samples\")\n"
      ]
    },
    {
      "cell_type": "markdown",
      "metadata": {},
      "source": [
        "##  STEP 5: Feature Engineering & Binning\n",
        "\n",
        "Derive new features using TRAIN statistics only.\n"
      ]
    },
    {
      "cell_type": "code",
      "execution_count": null,
      "metadata": {},
      "outputs": [
        {
          "name": "stdout",
          "output_type": "stream",
          "text": [
            "✅ Step 5 complete: Features engineered using TRAIN statistics\n"
          ]
        }
      ],
      "source": [
        "# Feature engineering: days_since_last_review using TRAIN max\n",
        "max_date_train = X_train['last_review'].max()\n",
        "X_train['days_since_last_review'] = (max_date_train - X_train['last_review']).dt.days\n",
        "X_train['days_since_last_review'].fillna(X_train['days_since_last_review'].max(), inplace=True)\n",
        "\n",
        "# Apply TRAIN's max_date to TEST\n",
        "X_test['days_since_last_review'] = (max_date_train - X_test['last_review']).dt.days\n",
        "X_test['days_since_last_review'].fillna(X_train['days_since_last_review'].max(), inplace=True)\n",
        "\n",
        "# Update numeric columns\n",
        "NUMERIC_COLS.extend(['reviews_per_month', 'days_since_last_review'])\n",
        "\n",
        "# Drop last_review (no longer needed)\n",
        "X_train = X_train.drop(columns=['last_review'])\n",
        "X_test = X_test.drop(columns=['last_review'])\n",
        "\n",
        "print(f\" Step 5 complete: Features engineered using TRAIN statistics\")"
      ]
    },
    {
      "cell_type": "code",
      "execution_count": null,
      "metadata": {},
      "outputs": [
        {
          "name": "stdout",
          "output_type": "stream",
          "text": [
            "✅ Imputed availability_365 <= 0 with TRAIN median (163)\n"
          ]
        }
      ],
      "source": [
        "# Handle availability_365 <= 0 by imputing with median from TRAIN\n",
        "train_median = X_train.loc[X_train['availability_365'] > 0, 'availability_365'].median()\n",
        "X_train.loc[X_train['availability_365'] <= 0, 'availability_365'] = train_median\n",
        "X_test.loc[X_test['availability_365'] <= 0, 'availability_365'] = train_median\n",
        "\n",
        "print(f\" Imputed availability_365 <= 0 with TRAIN median ({train_median:.0f})\")\n"
      ]
    },
    {
      "cell_type": "markdown",
      "metadata": {},
      "source": [
        "## 6️ Derive Classification Target\n",
        "\n",
        "Quantiles from TRAIN only.\n"
      ]
    },
    {
      "cell_type": "code",
      "execution_count": null,
      "metadata": {},
      "outputs": [
        {
          "name": "stdout",
          "output_type": "stream",
          "text": [
            "Price quantiles (TRAIN): q33=$75, q66=$138\n",
            "\n",
            "TRAIN class distribution:\n",
            "price\n",
            "Budget      12154\n",
            "Standard    12114\n",
            "Luxury      12467\n",
            "Name: count, dtype: int64\n",
            "\n",
            "TEST class distribution:\n",
            "price\n",
            "Budget      3082\n",
            "Standard    3002\n",
            "Luxury      3093\n",
            "Name: count, dtype: int64\n",
            "\n",
            "✅ Classification target derived\n"
          ]
        }
      ],
      "source": [
        "# Compute quantiles on TRAIN\n",
        "q33, q66 = y_train.quantile([0.33, 0.66])\n",
        "print(f\"Price quantiles (TRAIN): q33=${q33:.0f}, q66=${q66:.0f}\")\n",
        "\n",
        "# Apply to both\n",
        "def binning_price(y, q33, q66):\n",
        "    return pd.cut(\n",
        "                y, \n",
        "                bins=[0, q33, q66, np.inf], \n",
        "                labels=['Budget', 'Standard', 'Luxury'], \n",
        "                include_lowest=True\n",
        "                )\n",
        "\n",
        "y_train_cat = binning_price(y_train, q33, q66)\n",
        "y_test_cat = binning_price(y_test, q33, q66)\n",
        "\n",
        "print(f\"\\nTRAIN class distribution:\")\n",
        "print(y_train_cat.value_counts().sort_index())\n",
        "print(f\"\\nTEST class distribution:\")\n",
        "print(y_test_cat.value_counts().sort_index())\n",
        "\n",
        "# Save thresholds\n",
        "with open(ARTIFACTS_DIR / 'price_bin_thresholds.json', 'w') as f:\n",
        "    json.dump({'q33': float(q33), 'q66': float(q66), 'labels': ['Budget', 'Standard', 'Luxury']}, f, indent=2)\n",
        "\n",
        "print(f\"\\n Classification target derived\")\n"
      ]
    },
    {
      "cell_type": "markdown",
      "metadata": {},
      "source": [
        "##  STEPS 6 & 7: Scale & Encode\n",
        "\n",
        "Build preprocessor, fit on TRAIN, transform both.\n"
      ]
    },
    {
      "cell_type": "code",
      "execution_count": null,
      "metadata": {},
      "outputs": [
        {
          "name": "stdout",
          "output_type": "stream",
          "text": [
            "Fitting preprocessor on TRAIN...\n",
            "\n",
            "✅ Steps 6 & 7 complete:\n",
            "   TRAIN shape: (36735, 39)\n",
            "   TEST shape:  (9177, 39)\n",
            "   Features: 39\n",
            "\n",
            "✅ Preprocessor saved\n"
          ]
        }
      ],
      "source": [
        "# Build preprocessor\n",
        "preprocessor = build_preprocessor(NOMINAL_COLS, ORDINAL_COLS, ORDINAL_CATEGORIES, NUMERIC_COLS)\n",
        "\n",
        "print(\"Fitting preprocessor on TRAIN...\")\n",
        "preprocessor.fit(X_train)\n",
        "\n",
        "# Transform\n",
        "X_train_transformed = preprocessor.transform(X_train)\n",
        "X_test_transformed = preprocessor.transform(X_test)\n",
        "\n",
        "print(f\"\\n Steps 6 & 7 complete:\")\n",
        "print(f\"   TRAIN shape: {X_train_transformed.shape}\")\n",
        "print(f\"   TEST shape:  {X_test_transformed.shape}\")\n",
        "\n",
        "# Extract feature names\n",
        "feature_names = extract_feature_names(preprocessor)\n",
        "print(f\"   Features: {len(feature_names)}\")\n",
        "\n",
        "# Save\n",
        "joblib.dump(preprocessor, ARTIFACTS_DIR / 'preprocessor.joblib')\n",
        "with open(ARTIFACTS_DIR / 'feature_names.json', 'w') as f:\n",
        "    json.dump(feature_names, f, indent=2)\n",
        "\n",
        "print(f\"\\n Preprocessor saved\")\n"
      ]
    },
    {
      "cell_type": "markdown",
      "metadata": {},
      "source": [
        "## 7️ Save Artifacts"
      ]
    },
    {
      "cell_type": "code",
      "execution_count": null,
      "metadata": {},
      "outputs": [
        {
          "name": "stdout",
          "output_type": "stream",
          "text": [
            "✅ All artifacts saved:\n",
            "   - Preprocessor & feature names\n",
            "   - Regression arrays (TRAIN/TEST)\n",
            "   - Classification arrays (TRAIN/TEST)\n",
            "   - Price bin thresholds\n"
          ]
        }
      ],
      "source": [
        "# Save regression arrays\n",
        "np.savez_compressed(ARTIFACTS_DIR / 'X_train_reg.npz', data=X_train_transformed)\n",
        "np.savez_compressed(ARTIFACTS_DIR / 'X_test_reg.npz', data=X_test_transformed)\n",
        "np.savez_compressed(ARTIFACTS_DIR / 'y_train_reg.npz', data=y_train.values)\n",
        "np.savez_compressed(ARTIFACTS_DIR / 'y_test_reg.npz', data=y_test.values)\n",
        "\n",
        "# Save classification arrays\n",
        "np.savez_compressed(ARTIFACTS_DIR / 'X_train_cls.npz', data=X_train_transformed)\n",
        "np.savez_compressed(ARTIFACTS_DIR / 'X_test_cls.npz', data=X_test_transformed)\n",
        "np.savez_compressed(ARTIFACTS_DIR / 'y_train_cls.npz', data=y_train_cat.cat.codes.values)\n",
        "np.savez_compressed(ARTIFACTS_DIR / 'y_test_cls.npz', data=y_test_cat.cat.codes.values)\n",
        "\n",
        "print(\" All artifacts saved:\")\n",
        "print(f\"   - Preprocessor & feature names\")\n",
        "print(f\"   - Regression arrays (TRAIN/TEST)\")\n",
        "print(f\"   - Classification arrays (TRAIN/TEST)\")\n",
        "print(f\"   - Price bin thresholds\")\n"
      ]
    },
    {
      "cell_type": "code",
      "execution_count": 17,
      "metadata": {},
      "outputs": [
        {
          "name": "stdout",
          "output_type": "stream",
          "text": [
            "✅ Preprocessor object saved as pickle file\n"
          ]
        }
      ],
      "source": [
        "# Save preprocessor object\n",
        "import pickle\n",
        "\n",
        "with open(ARTIFACTS_DIR / 'preprocessor.pkl', 'wb') as f:\n",
        "    pickle.dump(preprocessor, f)\n",
        "\n",
        "print(\"✅ Preprocessor object saved as pickle file\")\n"
      ]
    },
    {
      "cell_type": "markdown",
      "metadata": {},
      "source": [
        "## 8️ Summary"
      ]
    },
    {
      "cell_type": "code",
      "execution_count": null,
      "metadata": {},
      "outputs": [
        {
          "name": "stdout",
          "output_type": "stream",
          "text": [
            "================================================================================\n",
            "DATA PREPARATION COMPLETE - 7-STEP PIPELINE\n",
            "================================================================================\n",
            "\n",
            "✅ TRAIN: 36,735 samples × 39 features\n",
            "✅ TEST:  9,177 samples × 39 features\n",
            "\n",
            "🔒 NO DATA LEAKAGE:\n",
            "   ✓ Split early (before imputation, outliers, engineering)\n",
            "   ✓ All statistics calculated on TRAIN only\n",
            "   ✓ TEST never influenced TRAIN preprocessing\n",
            "\n",
            "✅ Ready for modeling!\n"
          ]
        }
      ],
      "source": [
        "print(\"=\" * 80)\n",
        "print(\"DATA PREPARATION COMPLETE - 7-STEP PIPELINE\")\n",
        "print(\"=\" * 80)\n",
        "print(f\"\\n TRAIN: {X_train_transformed.shape[0]:,} samples × {X_train_transformed.shape[1]} features\")\n",
        "print(f\" TEST:  {X_test_transformed.shape[0]:,} samples × {X_test_transformed.shape[1]} features\")\n",
        "print(f\"\\n NO DATA LEAKAGE:\")\n",
        "print(f\"   ✓ Split early (before imputation, outliers, engineering)\")\n",
        "print(f\"   ✓ All statistics calculated on TRAIN only\")\n",
        "print(f\"   ✓ TEST never influenced TRAIN preprocessing\")\n",
        "print(f\"\\n Ready for modeling!\")\n"
      ]
    }
  ],
  "metadata": {
    "kernelspec": {
      "display_name": "base",
      "language": "python",
      "name": "python3"
    },
    "language_info": {
      "codemirror_mode": {
        "name": "ipython",
        "version": 3
      },
      "file_extension": ".py",
      "mimetype": "text/x-python",
      "name": "python",
      "nbconvert_exporter": "python",
      "pygments_lexer": "ipython3",
      "version": "3.13.5"
    }
  },
  "nbformat": 4,
  "nbformat_minor": 2
}
